{
 "cells": [
  {
   "cell_type": "code",
   "execution_count": 1,
   "id": "2ba46692",
   "metadata": {},
   "outputs": [],
   "source": [
    "import requests\n",
    "import pandas as pd"
   ]
  },
  {
   "cell_type": "code",
   "execution_count": 31,
   "id": "4f90d2d7",
   "metadata": {},
   "outputs": [],
   "source": [
    "# Define global variables for use in API call\n",
    "with open('fred_keyfile.txt') as infile:\n",
    "    fred_api_key = infile.read().strip()\n",
    "\n",
    "base_url = \"https://api.stlouisfed.org/fred/series/observations?series_id={series_id}&api_key={api_key}&file_type=json\"\n",
    "\n",
    "sales_series_ids = [\"DAUTOSAAR\", \"DLTRUCKSSAAR\", \"FAUTOSAAR\", \"FLTRUCKSSAAR\", \"HTRUCKSSAAR\"]\n",
    "gas_series_id = \"GASREGCOVW\"\n",
    "gas_url = base_url + \"&frequency=m\""
   ]
  },
  {
   "cell_type": "code",
   "execution_count": 20,
   "id": "f02e4a8d",
   "metadata": {},
   "outputs": [],
   "source": [
    "# Get sales data for automobiles and trucks, merge them all into single dataframe\n",
    "sales_df = pd.DataFrame({'date': []})\n",
    "\n",
    "for series_id in sales_series_ids:\n",
    "    res_json = requests.get(base_url.format(series_id=series_id, api_key=fred_api_key)).json()\n",
    "    individual_df = pd.DataFrame(res_json['observations'], columns = ['date', 'value'])\n",
    "    individual_df.rename(columns={'value': series_id}, inplace=True)\n",
    "    \n",
    "    sales_df = sales_df.merge(individual_df, how='outer', left_on='date', right_on='date')"
   ]
  },
  {
   "cell_type": "code",
   "execution_count": 39,
   "id": "17668716",
   "metadata": {},
   "outputs": [
    {
     "name": "stdout",
     "output_type": "stream",
     "text": [
      "<class 'pandas.core.frame.DataFrame'>\n",
      "Int64Index: 668 entries, 0 to 667\n",
      "Data columns (total 6 columns):\n",
      " #   Column        Non-Null Count  Dtype \n",
      "---  ------        --------------  ----- \n",
      " 0   date          668 non-null    object\n",
      " 1   DAUTOSAAR     668 non-null    object\n",
      " 2   DLTRUCKSSAAR  668 non-null    object\n",
      " 3   FAUTOSAAR     668 non-null    object\n",
      " 4   FLTRUCKSSAAR  560 non-null    object\n",
      " 5   HTRUCKSSAAR   668 non-null    object\n",
      "dtypes: object(6)\n",
      "memory usage: 36.5+ KB\n"
     ]
    }
   ],
   "source": [
    "sales_df.info()"
   ]
  },
  {
   "cell_type": "code",
   "execution_count": 30,
   "id": "d5d7b792",
   "metadata": {},
   "outputs": [
    {
     "data": {
      "text/html": [
       "<div>\n",
       "<style scoped>\n",
       "    .dataframe tbody tr th:only-of-type {\n",
       "        vertical-align: middle;\n",
       "    }\n",
       "\n",
       "    .dataframe tbody tr th {\n",
       "        vertical-align: top;\n",
       "    }\n",
       "\n",
       "    .dataframe thead th {\n",
       "        text-align: right;\n",
       "    }\n",
       "</style>\n",
       "<table border=\"1\" class=\"dataframe\">\n",
       "  <thead>\n",
       "    <tr style=\"text-align: right;\">\n",
       "      <th></th>\n",
       "      <th>date</th>\n",
       "      <th>DAUTOSAAR</th>\n",
       "      <th>DLTRUCKSSAAR</th>\n",
       "      <th>FAUTOSAAR</th>\n",
       "      <th>FLTRUCKSSAAR</th>\n",
       "      <th>HTRUCKSSAAR</th>\n",
       "    </tr>\n",
       "  </thead>\n",
       "  <tbody>\n",
       "    <tr>\n",
       "      <th>0</th>\n",
       "      <td>1967-01-01</td>\n",
       "      <td>7.837</td>\n",
       "      <td>1.235</td>\n",
       "      <td>0.629</td>\n",
       "      <td>NaN</td>\n",
       "      <td>0.359</td>\n",
       "    </tr>\n",
       "    <tr>\n",
       "      <th>1</th>\n",
       "      <td>1967-02-01</td>\n",
       "      <td>6.850</td>\n",
       "      <td>1.138</td>\n",
       "      <td>0.690</td>\n",
       "      <td>NaN</td>\n",
       "      <td>0.304</td>\n",
       "    </tr>\n",
       "    <tr>\n",
       "      <th>2</th>\n",
       "      <td>1967-03-01</td>\n",
       "      <td>7.220</td>\n",
       "      <td>1.237</td>\n",
       "      <td>0.740</td>\n",
       "      <td>NaN</td>\n",
       "      <td>0.359</td>\n",
       "    </tr>\n",
       "    <tr>\n",
       "      <th>3</th>\n",
       "      <td>1967-04-01</td>\n",
       "      <td>8.164</td>\n",
       "      <td>1.204</td>\n",
       "      <td>0.746</td>\n",
       "      <td>NaN</td>\n",
       "      <td>0.343</td>\n",
       "    </tr>\n",
       "    <tr>\n",
       "      <th>4</th>\n",
       "      <td>1967-05-01</td>\n",
       "      <td>7.961</td>\n",
       "      <td>1.184</td>\n",
       "      <td>0.782</td>\n",
       "      <td>NaN</td>\n",
       "      <td>0.344</td>\n",
       "    </tr>\n",
       "    <tr>\n",
       "      <th>...</th>\n",
       "      <td>...</td>\n",
       "      <td>...</td>\n",
       "      <td>...</td>\n",
       "      <td>...</td>\n",
       "      <td>...</td>\n",
       "      <td>...</td>\n",
       "    </tr>\n",
       "    <tr>\n",
       "      <th>105</th>\n",
       "      <td>1975-10-01</td>\n",
       "      <td>7.620</td>\n",
       "      <td>2.345</td>\n",
       "      <td>1.468</td>\n",
       "      <td>NaN</td>\n",
       "      <td>0.316</td>\n",
       "    </tr>\n",
       "    <tr>\n",
       "      <th>106</th>\n",
       "      <td>1975-11-01</td>\n",
       "      <td>7.895</td>\n",
       "      <td>2.508</td>\n",
       "      <td>1.370</td>\n",
       "      <td>NaN</td>\n",
       "      <td>0.288</td>\n",
       "    </tr>\n",
       "    <tr>\n",
       "      <th>107</th>\n",
       "      <td>1975-12-01</td>\n",
       "      <td>8.128</td>\n",
       "      <td>2.419</td>\n",
       "      <td>1.442</td>\n",
       "      <td>NaN</td>\n",
       "      <td>0.252</td>\n",
       "    </tr>\n",
       "    <tr>\n",
       "      <th>108</th>\n",
       "      <td>1976-01-01</td>\n",
       "      <td>8.453</td>\n",
       "      <td>2.589</td>\n",
       "      <td>1.288</td>\n",
       "      <td>0.182</td>\n",
       "      <td>0.302</td>\n",
       "    </tr>\n",
       "    <tr>\n",
       "      <th>109</th>\n",
       "      <td>1976-02-01</td>\n",
       "      <td>8.723</td>\n",
       "      <td>2.730</td>\n",
       "      <td>1.409</td>\n",
       "      <td>0.182</td>\n",
       "      <td>0.296</td>\n",
       "    </tr>\n",
       "  </tbody>\n",
       "</table>\n",
       "<p>110 rows × 6 columns</p>\n",
       "</div>"
      ],
      "text/plain": [
       "           date DAUTOSAAR DLTRUCKSSAAR FAUTOSAAR FLTRUCKSSAAR HTRUCKSSAAR\n",
       "0    1967-01-01     7.837        1.235     0.629          NaN       0.359\n",
       "1    1967-02-01     6.850        1.138     0.690          NaN       0.304\n",
       "2    1967-03-01     7.220        1.237     0.740          NaN       0.359\n",
       "3    1967-04-01     8.164        1.204     0.746          NaN       0.343\n",
       "4    1967-05-01     7.961        1.184     0.782          NaN       0.344\n",
       "..          ...       ...          ...       ...          ...         ...\n",
       "105  1975-10-01     7.620        2.345     1.468          NaN       0.316\n",
       "106  1975-11-01     7.895        2.508     1.370          NaN       0.288\n",
       "107  1975-12-01     8.128        2.419     1.442          NaN       0.252\n",
       "108  1976-01-01     8.453        2.589     1.288        0.182       0.302\n",
       "109  1976-02-01     8.723        2.730     1.409        0.182       0.296\n",
       "\n",
       "[110 rows x 6 columns]"
      ]
     },
     "execution_count": 30,
     "metadata": {},
     "output_type": "execute_result"
    }
   ],
   "source": [
    "sales_df.head(110)"
   ]
  },
  {
   "cell_type": "code",
   "execution_count": 36,
   "id": "abca7c3d",
   "metadata": {},
   "outputs": [],
   "source": [
    "res_json = requests.get(gas_url.format(series_id=gas_series_id, api_key=fred_api_key)).json()\n",
    "gas_df = pd.DataFrame(res_json['observations'], columns=['date', 'value'])"
   ]
  },
  {
   "cell_type": "code",
   "execution_count": 38,
   "id": "77e429d4",
   "metadata": {},
   "outputs": [
    {
     "data": {
      "text/html": [
       "<div>\n",
       "<style scoped>\n",
       "    .dataframe tbody tr th:only-of-type {\n",
       "        vertical-align: middle;\n",
       "    }\n",
       "\n",
       "    .dataframe tbody tr th {\n",
       "        vertical-align: top;\n",
       "    }\n",
       "\n",
       "    .dataframe thead th {\n",
       "        text-align: right;\n",
       "    }\n",
       "</style>\n",
       "<table border=\"1\" class=\"dataframe\">\n",
       "  <thead>\n",
       "    <tr style=\"text-align: right;\">\n",
       "      <th></th>\n",
       "      <th>date</th>\n",
       "      <th>value</th>\n",
       "    </tr>\n",
       "  </thead>\n",
       "  <tbody>\n",
       "    <tr>\n",
       "      <th>1</th>\n",
       "      <td>1990-08-01</td>\n",
       "      <td>1.218</td>\n",
       "    </tr>\n",
       "    <tr>\n",
       "      <th>2</th>\n",
       "      <td>1990-09-01</td>\n",
       "      <td>1.258</td>\n",
       "    </tr>\n",
       "    <tr>\n",
       "      <th>3</th>\n",
       "      <td>1990-10-01</td>\n",
       "      <td>1.335</td>\n",
       "    </tr>\n",
       "    <tr>\n",
       "      <th>4</th>\n",
       "      <td>1990-11-01</td>\n",
       "      <td>1.324</td>\n",
       "    </tr>\n",
       "    <tr>\n",
       "      <th>5</th>\n",
       "      <td>1990-12-01</td>\n",
       "      <td>1.341</td>\n",
       "    </tr>\n",
       "  </tbody>\n",
       "</table>\n",
       "</div>"
      ],
      "text/plain": [
       "         date  value\n",
       "1  1990-08-01  1.218\n",
       "2  1990-09-01  1.258\n",
       "3  1990-10-01  1.335\n",
       "4  1990-11-01  1.324\n",
       "5  1990-12-01  1.341"
      ]
     },
     "execution_count": 38,
     "metadata": {},
     "output_type": "execute_result"
    }
   ],
   "source": [
    "# First data point is missing, keep all others\n",
    "gas_df = gas_df.iloc[1:]\n",
    "gas_df.head()"
   ]
  },
  {
   "cell_type": "markdown",
   "id": "90918e27",
   "metadata": {},
   "source": [
    "There's missing data in the Foreign Light Truck Sales column ('FLTRUCKSSAAR'). Replace this with zero."
   ]
  },
  {
   "cell_type": "code",
   "execution_count": 43,
   "id": "a70f7c86",
   "metadata": {},
   "outputs": [],
   "source": [
    "sales_df = sales_df.fillna(0)"
   ]
  },
  {
   "cell_type": "code",
   "execution_count": 45,
   "id": "d419bec9",
   "metadata": {},
   "outputs": [],
   "source": [
    "# Save pandas dataframes to csv files\n",
    "sales_df.to_csv('vehicle_sales.csv', index=False)\n",
    "gas_df.to_csv('gas_price.csv', index=False)"
   ]
  }
 ],
 "metadata": {
  "kernelspec": {
   "display_name": "Python 3 (ipykernel)",
   "language": "python",
   "name": "python3"
  },
  "language_info": {
   "codemirror_mode": {
    "name": "ipython",
    "version": 3
   },
   "file_extension": ".py",
   "mimetype": "text/x-python",
   "name": "python",
   "nbconvert_exporter": "python",
   "pygments_lexer": "ipython3",
   "version": "3.9.12"
  }
 },
 "nbformat": 4,
 "nbformat_minor": 5
}
